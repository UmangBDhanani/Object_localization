{
  "nbformat": 4,
  "nbformat_minor": 0,
  "metadata": {
    "colab": {
      "provenance": []
    },
    "kernelspec": {
      "display_name": "Python 3",
      "language": "python",
      "name": "python3"
    },
    "language_info": {
      "codemirror_mode": {
        "name": "ipython",
        "version": 3
      },
      "file_extension": ".py",
      "mimetype": "text/x-python",
      "name": "python",
      "nbconvert_exporter": "python",
      "pygments_lexer": "ipython3",
      "version": "3.7.4"
    },
    "accelerator": "GPU",
    "gpuClass": "standard"
  },
  "cells": [
    {
      "cell_type": "markdown",
      "metadata": {
        "id": "KsjDCIat6_UK"
      },
      "source": [
        "# Image Classification and Object Localization\n",
        "\n",
        "- classify the main subject in an image\n",
        "- localize it by drawing bounding boxes around it.\n",
        "\n",
        "We'll use the [MNIST](http://yann.lecun.com/exdb/mnist/) dataset to synthesize a custom dataset for the objective to:\n",
        "- Place each \"digit\" image on a black canvas of width 75 x 75 at random locations.\n",
        "- Calculate the corresponding bounding boxes for those \"digits\".\n",
        "\n",
        "The bounding box prediction can be modelled as a \"regression\" task, which means that the model will predict a numeric value (as opposed to a category)."
      ]
    },
    {
      "cell_type": "markdown",
      "metadata": {
        "id": "qpiJj8ym0v0-"
      },
      "source": [
        "## Imports"
      ]
    },
    {
      "cell_type": "code",
      "metadata": {
        "id": "AoilhmYe1b5t",
        "colab": {
          "base_uri": "https://localhost:8080/"
        },
        "outputId": "279a0918-905e-420d-fe33-1a76c08f1208"
      },
      "source": [
        "import os, re, time, json\n",
        "import PIL.Image, PIL.ImageFont, PIL.ImageDraw\n",
        "import numpy as np\n",
        "try:\n",
        "  # %tensorflow_version only exists in Colab.\n",
        "  %tensorflow_version 2.x\n",
        "except Exception:\n",
        "  pass\n",
        "import tensorflow as tf\n",
        "from matplotlib import pyplot as plt\n",
        "import tensorflow_datasets as tfds\n",
        "\n",
        "print(\"Tensorflow version \" + tf.__version__)"
      ],
      "execution_count": 1,
      "outputs": [
        {
          "output_type": "stream",
          "name": "stdout",
          "text": [
            "Colab only includes TensorFlow 2.x; %tensorflow_version has no effect.\n",
            "Tensorflow version 2.9.2\n"
          ]
        }
      ]
    },
    {
      "cell_type": "markdown",
      "metadata": {
        "id": "xmoFKEd98MP3"
      },
      "source": [
        "# Visualization Utilities\n",
        "\n",
        "These functions are used to draw bounding boxes around the digits."
      ]
    },
    {
      "cell_type": "code",
      "metadata": {
        "id": "tBjj1Fg-i_lc"
      },
      "source": [
        "#@title Plot Utilities for Bounding Boxes \n",
        "\n",
        "im_width = 75\n",
        "im_height = 75\n",
        "use_normalized_coordinates = True\n",
        "\n",
        "def draw_bounding_boxes_on_image_array(image,\n",
        "                                       boxes,\n",
        "                                       color=[],\n",
        "                                       thickness=1,\n",
        "                                       display_str_list=()):\n",
        "  \"\"\"Draws bounding boxes on image (numpy array).\n",
        "  Args:\n",
        "    image: a numpy array object.\n",
        "    boxes: a 2 dimensional numpy array of [N, 4]: (ymin, xmin, ymax, xmax).\n",
        "           The coordinates are in normalized format between [0, 1].\n",
        "    color: color to draw bounding box. Default is red.\n",
        "    thickness: line thickness. Default value is 4.\n",
        "    display_str_list_list: a list of strings for each bounding box.\n",
        "  Raises:\n",
        "    ValueError: if boxes is not a [N, 4] array\n",
        "  \"\"\"\n",
        "  image_pil = PIL.Image.fromarray(image)\n",
        "  rgbimg = PIL.Image.new(\"RGBA\", image_pil.size)\n",
        "  rgbimg.paste(image_pil)\n",
        "  draw_bounding_boxes_on_image(rgbimg, boxes, color, thickness,\n",
        "                               display_str_list)\n",
        "  return np.array(rgbimg)\n",
        "  \n",
        "\n",
        "def draw_bounding_boxes_on_image(image,\n",
        "                                 boxes,\n",
        "                                 color=[],\n",
        "                                 thickness=1,\n",
        "                                 display_str_list=()):\n",
        "  \"\"\"Draws bounding boxes on image.\n",
        "  Args:\n",
        "    image: a PIL.Image object.\n",
        "    boxes: a 2 dimensional numpy array of [N, 4]: (ymin, xmin, ymax, xmax).\n",
        "           The coordinates are in normalized format between [0, 1].\n",
        "    color: color to draw bounding box. Default is red.\n",
        "    thickness: line thickness. Default value is 4.\n",
        "    display_str_list: a list of strings for each bounding box.\n",
        "                           \n",
        "  Raises:\n",
        "    ValueError: if boxes is not a [N, 4] array\n",
        "  \"\"\"\n",
        "  boxes_shape = boxes.shape\n",
        "  if not boxes_shape:\n",
        "    return\n",
        "  if len(boxes_shape) != 2 or boxes_shape[1] != 4:\n",
        "    raise ValueError('Input must be of size [N, 4]')\n",
        "  for i in range(boxes_shape[0]):\n",
        "    draw_bounding_box_on_image(image, boxes[i, 1], boxes[i, 0], boxes[i, 3],\n",
        "                               boxes[i, 2], color[i], thickness, display_str_list[i])\n",
        "        \n",
        "def draw_bounding_box_on_image(image,\n",
        "                               ymin,\n",
        "                               xmin,\n",
        "                               ymax,\n",
        "                               xmax,\n",
        "                               color='red',\n",
        "                               thickness=1,\n",
        "                               display_str=None,\n",
        "                               use_normalized_coordinates=True):\n",
        "  \"\"\"Adds a bounding box to an image.\n",
        "  Bounding box coordinates can be specified in either absolute (pixel) or\n",
        "  normalized coordinates by setting the use_normalized_coordinates argument.\n",
        "  Args:\n",
        "    image: a PIL.Image object.\n",
        "    ymin: ymin of bounding box.\n",
        "    xmin: xmin of bounding box.\n",
        "    ymax: ymax of bounding box.\n",
        "    xmax: xmax of bounding box.\n",
        "    color: color to draw bounding box. Default is red.\n",
        "    thickness: line thickness. Default value is 4.\n",
        "    display_str_list: string to display in box\n",
        "    use_normalized_coordinates: If True (default), treat coordinates\n",
        "      ymin, xmin, ymax, xmax as relative to the image.  Otherwise treat\n",
        "      coordinates as absolute.\n",
        "  \"\"\"\n",
        "  draw = PIL.ImageDraw.Draw(image)\n",
        "  im_width, im_height = image.size\n",
        "  if use_normalized_coordinates:\n",
        "    (left, right, top, bottom) = (xmin * im_width, xmax * im_width,\n",
        "                                  ymin * im_height, ymax * im_height)\n",
        "  else:\n",
        "    (left, right, top, bottom) = (xmin, xmax, ymin, ymax)\n",
        "  draw.line([(left, top), (left, bottom), (right, bottom),\n",
        "             (right, top), (left, top)], width=thickness, fill=color)\n",
        "  \n"
      ],
      "execution_count": 3,
      "outputs": []
    },
    {
      "cell_type": "markdown",
      "metadata": {
        "id": "USx9tRBF8hWy"
      },
      "source": [
        "These utilities are used to visualize the data and predictions."
      ]
    },
    {
      "cell_type": "code",
      "metadata": {
        "id": "qhdz68Xm3Z4Z",
        "cellView": "code"
      },
      "source": [
        "#@title Visualization Utilities \n",
        "\"\"\"\n",
        "This cell contains helper functions used for visualization\n",
        "and downloads only. \n",
        "\n",
        "You can skip reading it, as there is very\n",
        "little Keras or Tensorflow related code here.\n",
        "\"\"\"\n",
        "\n",
        "# Matplotlib config\n",
        "plt.rc('image', cmap='gray')\n",
        "plt.rc('grid', linewidth=0)\n",
        "plt.rc('xtick', top=False, bottom=False, labelsize='large')\n",
        "plt.rc('ytick', left=False, right=False, labelsize='large')\n",
        "plt.rc('axes', facecolor='F8F8F8', titlesize=\"large\", edgecolor='white')\n",
        "plt.rc('text', color='a8151a')\n",
        "plt.rc('figure', facecolor='F0F0F0')# Matplotlib fonts\n",
        "MATPLOTLIB_FONT_DIR = os.path.join(os.path.dirname(plt.__file__), \"mpl-data/fonts/ttf\")\n",
        "\n",
        "# pull a batch from the datasets. This code is not very nice, it gets much better in eager mode (TODO)\n",
        "def dataset_to_numpy_util(training_dataset, validation_dataset, N):\n",
        "  \n",
        "  # get one batch from each: 10000 validation digits, N training digits\n",
        "  batch_train_ds = training_dataset.unbatch().batch(N)\n",
        "  \n",
        "  # eager execution: loop through datasets normally\n",
        "  if tf.executing_eagerly():\n",
        "    for validation_digits, (validation_labels, validation_bboxes) in validation_dataset:\n",
        "      validation_digits = validation_digits.numpy()\n",
        "      validation_labels = validation_labels.numpy()\n",
        "      validation_bboxes = validation_bboxes.numpy()\n",
        "      break\n",
        "    for training_digits, (training_labels, training_bboxes) in batch_train_ds:\n",
        "      training_digits = training_digits.numpy()\n",
        "      training_labels = training_labels.numpy()\n",
        "      training_bboxes = training_bboxes.numpy()\n",
        "      break\n",
        "  \n",
        "  # these were one-hot encoded in the dataset\n",
        "  validation_labels = np.argmax(validation_labels, axis=1)\n",
        "  training_labels = np.argmax(training_labels, axis=1)\n",
        "  \n",
        "  return (training_digits, training_labels, training_bboxes,\n",
        "          validation_digits, validation_labels, validation_bboxes)\n",
        "\n",
        "# create digits from local fonts for testing\n",
        "def create_digits_from_local_fonts(n):\n",
        "  font_labels = []\n",
        "  img = PIL.Image.new('LA', (75*n, 75), color = (0,255)) # format 'LA': black in channel 0, alpha in channel 1\n",
        "  font1 = PIL.ImageFont.truetype(os.path.join(MATPLOTLIB_FONT_DIR, 'DejaVuSansMono-Oblique.ttf'), 25)\n",
        "  font2 = PIL.ImageFont.truetype(os.path.join(MATPLOTLIB_FONT_DIR, 'STIXGeneral.ttf'), 25)\n",
        "  d = PIL.ImageDraw.Draw(img)\n",
        "  for i in range(n):\n",
        "    font_labels.append(i%10)\n",
        "    d.text((7+i*75,0 if i<10 else -4), str(i%10), fill=(255,255), font=font1 if i<10 else font2)\n",
        "  font_digits = np.array(img.getdata(), np.float32)[:,0] / 255.0 # black in channel 0, alpha in channel 1 (discarded)\n",
        "  font_digits = np.reshape(np.stack(np.split(np.reshape(font_digits, [75, 75*n]), n, axis=1), axis=0), [n, 75*75])\n",
        "  return font_digits, font_labels\n",
        "\n",
        "\n",
        "# utility to display a row of digits with their predictions\n",
        "def display_digits_with_boxes(digits, predictions, labels, pred_bboxes, bboxes, iou, title):\n",
        "\n",
        "  n = 10\n",
        "\n",
        "  indexes = np.random.choice(len(predictions), size=n)\n",
        "  n_digits = digits[indexes]\n",
        "  n_predictions = predictions[indexes]\n",
        "  n_labels = labels[indexes]\n",
        "\n",
        "  n_iou = []\n",
        "  if len(iou) > 0:\n",
        "    n_iou = iou[indexes]\n",
        "\n",
        "  if (len(pred_bboxes) > 0):\n",
        "    n_pred_bboxes = pred_bboxes[indexes,:]\n",
        "\n",
        "  if (len(bboxes) > 0):\n",
        "    n_bboxes = bboxes[indexes,:]\n",
        "\n",
        "\n",
        "  n_digits = n_digits * 255.0\n",
        "  n_digits = n_digits.reshape(n, 75, 75)\n",
        "  fig = plt.figure(figsize=(20, 4))\n",
        "  plt.title(title)\n",
        "  plt.yticks([])\n",
        "  plt.xticks([])\n",
        "  \n",
        "  for i in range(10):\n",
        "    ax = fig.add_subplot(1, 10, i+1)\n",
        "    bboxes_to_plot = []\n",
        "    if (len(pred_bboxes) > i):\n",
        "      bboxes_to_plot.append(n_pred_bboxes[i])\n",
        "    \n",
        "    if (len(bboxes) > i):\n",
        "      bboxes_to_plot.append(n_bboxes[i])\n",
        "\n",
        "    img_to_draw = draw_bounding_boxes_on_image_array(image=n_digits[i], boxes=np.asarray(bboxes_to_plot), color=['red', 'green'], display_str_list=[\"true\", \"pred\"])\n",
        "    plt.xlabel(n_predictions[i])\n",
        "    plt.xticks([])\n",
        "    plt.yticks([])\n",
        "    \n",
        "    if n_predictions[i] != n_labels[i]:\n",
        "      ax.xaxis.label.set_color('red')\n",
        "\n",
        "    \n",
        "    \n",
        "    plt.imshow(img_to_draw)\n",
        "\n",
        "    if len(iou) > i :\n",
        "      color = \"black\"\n",
        "      if (n_iou[i][0] < iou_threshold):\n",
        "        color = \"red\"\n",
        "      ax.text(0.2, -0.3, \"iou: %s\" %(n_iou[i][0]), color=color, transform=ax.transAxes)\n",
        "\n",
        "\n",
        "# utility to display training and validation curves\n",
        "def plot_metrics(metric_name, title, ylim=5):\n",
        "  plt.title(title)\n",
        "  plt.ylim(0,ylim)\n",
        "  plt.plot(history.history[metric_name],color='blue',label=metric_name)\n",
        "  plt.plot(history.history['val_' + metric_name],color='green',label='val_' + metric_name)"
      ],
      "execution_count": 4,
      "outputs": []
    },
    {
      "cell_type": "markdown",
      "metadata": {
        "id": "_Ok__0RB-M8S"
      },
      "source": [
        "## Selecting Between Strategies"
      ]
    },
    {
      "cell_type": "markdown",
      "metadata": {
        "id": "R4jujVYWY9-6"
      },
      "source": [
        "### TPU or GPU detection\n",
        "\n",
        "- If the TPU is available, then we'll be using the TPU Strategy.\n",
        "Otherwise:\n",
        "- If more than one GPU is available, then we'll use the Mirrored Strategy\n",
        "- If one GPU is available or if just the CPU is available, we'll use the default strategy."
      ]
    },
    {
      "cell_type": "code",
      "metadata": {
        "id": "Hd5zB1G7Y9-7",
        "colab": {
          "base_uri": "https://localhost:8080/"
        },
        "outputId": "6013018a-d4db-4919-c946-167545bb3cc5"
      },
      "source": [
        "# Detect hardware\n",
        "try:\n",
        "  tpu = tf.distribute.cluster_resolver.TPUClusterResolver() # TPU detection\n",
        "except ValueError:\n",
        "  tpu = None\n",
        "  gpus = tf.config.experimental.list_logical_devices(\"GPU\")\n",
        "    \n",
        "# Select appropriate distribution strategy\n",
        "if tpu:\n",
        "  tf.config.experimental_connect_to_cluster(tpu)\n",
        "  tf.tpu.experimental.initialize_tpu_system(tpu)\n",
        "  strategy = tf.distribute.TPUStrategy(tpu) # Going back and forth between TPU and host is expensive. Better to run 128 batches on the TPU before reporting back.\n",
        "  print('Running on TPU ', tpu.cluster_spec().as_dict()['worker'])  \n",
        "elif len(gpus) > 1:\n",
        "  strategy = tf.distribute.MirroredStrategy([gpu.name for gpu in gpus])\n",
        "  print('Running on multiple GPUs ', [gpu.name for gpu in gpus])\n",
        "elif len(gpus) == 1:\n",
        "  strategy = tf.distribute.get_strategy() # default strategy that works on CPU and single GPU\n",
        "  print('Running on single GPU ', gpus[0].name)\n",
        "else:\n",
        "  strategy = tf.distribute.get_strategy() # default strategy that works on CPU and single GPU\n",
        "  print('Running on CPU')\n",
        "print(\"Number of accelerators: \", strategy.num_replicas_in_sync)"
      ],
      "execution_count": 5,
      "outputs": [
        {
          "output_type": "stream",
          "name": "stdout",
          "text": [
            "Running on single GPU  /device:GPU:0\n",
            "Number of accelerators:  1\n"
          ]
        }
      ]
    },
    {
      "cell_type": "markdown",
      "metadata": {
        "id": "Lvo0t7XVIkWZ"
      },
      "source": [
        "### Parameters\n",
        "\n",
        "The global batch size is the batch size per replica (64 in this case) times the number of replicas in the distribution strategy."
      ]
    },
    {
      "cell_type": "code",
      "metadata": {
        "id": "cCpkS9C_H7Tl"
      },
      "source": [
        "BATCH_SIZE = 64 * strategy.num_replicas_in_sync # Gobal batch size.\n",
        "# The global batch size will be automatically sharded across all\n",
        "# replicas by the tf.data.Dataset API. A single TPU has 8 cores.\n",
        "# The best practice is to scale the batch size by the number of\n",
        "# replicas (cores). The learning rate should be increased as well.\n"
      ],
      "execution_count": 6,
      "outputs": []
    },
    {
      "cell_type": "markdown",
      "metadata": {
        "id": "JVkc7nzg-WUy"
      },
      "source": [
        "## Loading and Preprocessing the Dataset\n",
        "\n",
        "Define some helper functions that will pre-process your data:\n",
        "- `read_image_tfds`: randomly overlays the \"digit\" image on top of a larger canvas.\n",
        "- `get_training_dataset`: loads data and splits it to get the training set.\n",
        "- `get_validation_dataset`: loads and splits the data to get the validation set."
      ]
    },
    {
      "cell_type": "code",
      "metadata": {
        "id": "ZE8dgyPC1_6m"
      },
      "source": [
        "\n",
        "'''\n",
        "Transforms each image in dataset by pasting it on a 75x75 canvas at random locations.\n",
        "'''\n",
        "def read_image_tfds(image, label):\n",
        "    xmin = tf.random.uniform((), 0 , 48, dtype=tf.int32)\n",
        "    ymin = tf.random.uniform((), 0 , 48, dtype=tf.int32)\n",
        "    image = tf.reshape(image, (28,28,1,))\n",
        "    image = tf.image.pad_to_bounding_box(image, ymin, xmin, 75, 75)\n",
        "    image = tf.cast(image, tf.float32)/255.0\n",
        "    xmin = tf.cast(xmin, tf.float32)\n",
        "    ymin = tf.cast(ymin, tf.float32)\n",
        "   \n",
        "    xmax = (xmin + 28) / 75\n",
        "    ymax = (ymin + 28) / 75\n",
        "    xmin = xmin / 75\n",
        "    ymin = ymin / 75\n",
        "    return image, (tf.one_hot(label, 10), [xmin, ymin, xmax, ymax])\n",
        "  \n",
        "'''\n",
        "Loads and maps the training split of the dataset using the map function. Note that we try to load the gcs version since TPU can only work with datasets on Google Cloud Storage.\n",
        "'''\n",
        "def get_training_dataset():\n",
        "      \n",
        "      with  strategy.scope():\n",
        "        dataset = tfds.load(\"mnist\", split=\"train\", as_supervised=True, try_gcs=True)\n",
        "        dataset = dataset.map(read_image_tfds, num_parallel_calls=16)\n",
        "        dataset = dataset.shuffle(5000, reshuffle_each_iteration=True)\n",
        "        dataset = dataset.repeat() # Mandatory for Keras for now\n",
        "        dataset = dataset.batch(BATCH_SIZE, drop_remainder=True) # drop_remainder is important on TPU, batch size must be fixed\n",
        "        dataset = dataset.prefetch(-1)  # fetch next batches while training on the current one (-1: autotune prefetch buffer size)\n",
        "      return dataset\n",
        "\n",
        "'''\n",
        "Loads and maps the validation split of the dataset using the map function. Note that we try to load the gcs version since TPU can only work with datasets on Google Cloud Storage.\n",
        "'''  \n",
        "def get_validation_dataset():\n",
        "    dataset = tfds.load(\"mnist\", split=\"test\", as_supervised=True, try_gcs=True)\n",
        "    dataset = dataset.map(read_image_tfds, num_parallel_calls=16)\n",
        "\n",
        "    #dataset = dataset.cache() # this small dataset can be entirely cached in RAM\n",
        "    dataset = dataset.batch(10000, drop_remainder=True) # 10000 items in eval dataset, all in one batch\n",
        "    dataset = dataset.repeat() # Mandatory for Keras for now\n",
        "    return dataset\n",
        "\n",
        "# instantiate the datasets\n",
        "with strategy.scope():\n",
        "  training_dataset = get_training_dataset()\n",
        "  validation_dataset = get_validation_dataset()"
      ],
      "execution_count": 7,
      "outputs": []
    },
    {
      "cell_type": "markdown",
      "metadata": {
        "id": "_fXo6GuvL3EB"
      },
      "source": [
        "### Visualize Data"
      ]
    },
    {
      "cell_type": "code",
      "metadata": {
        "id": "yZ4tjPKvL2eh",
        "colab": {
          "base_uri": "https://localhost:8080/",
          "height": 511
        },
        "outputId": "5b48dfcb-cb21-4252-c4c2-f2b1d7578567"
      },
      "source": [
        "(training_digits, training_labels, training_bboxes,\n",
        " validation_digits, validation_labels, validation_bboxes) = dataset_to_numpy_util(training_dataset, validation_dataset, 10)\n",
        "\n",
        "display_digits_with_boxes(training_digits, training_labels, training_labels, np.array([]), training_bboxes, np.array([]), \"training digits and their labels\")\n",
        "display_digits_with_boxes(validation_digits, validation_labels, validation_labels, np.array([]), validation_bboxes, np.array([]), \"validation digits and their labels\")\n"
      ],
      "execution_count": 8,
      "outputs": [
        {
          "output_type": "display_data",
          "data": {
            "text/plain": [
              "<Figure size 1440x288 with 11 Axes>"
            ],
            "image/png": "[encoded data removed]"
          },
          "metadata": {}
        },
        {
          "output_type": "display_data",
          "data": {
            "text/plain": [
              "<Figure size 1440x288 with 11 Axes>"
            ],
            "image/png": "[encoded data removed]"
          },
          "metadata": {}
        }
      ]
    },
    {
      "cell_type": "markdown",
      "metadata": {
        "id": "f8nHWWkS_eeZ"
      },
      "source": [
        "## Define the Network\n",
        "\n",
        "- `feature_extractor`: these convolutional layers extract the features of the image.\n",
        "- `classifier`:  This define the output layer that predicts among 10 categories (digits 0 through 9)\n",
        "- `bounding_box_regression`: This defines the output layer that predicts 4 numeric values, which define the coordinates of the bounding box (xmin, ymin, xmax, ymax)\n",
        "- `final_model`: This combines the layers for feature extraction, classification and bounding box prediction.  \n",
        "  - Notice that this is another example of a branching model, because the model splits to produce two kinds of output (a category and set of numbers).  \n",
        "  - Since you've learned to use the Functional API earlier in the specialization (course 1), you have the flexibility to define this kind of branching model!\n",
        "- `define_and_compile_model`: choose the optimizer and metrics, then compile the model."
      ]
    },
    {
      "cell_type": "code",
      "metadata": {
        "id": "56y8UNFQIVwj",
        "colab": {
          "base_uri": "https://localhost:8080/"
        },
        "outputId": "e8fb421a-4b54-4e4d-de5d-158903d1b267"
      },
      "source": [
        "'''\n",
        "Feature extractor is the CNN that is made up of convolution and pooling layers.\n",
        "'''\n",
        "def feature_extractor(inputs):\n",
        "    x = tf.keras.layers.Conv2D(16, activation='relu', kernel_size=3, input_shape=(75, 75, 1))(inputs)\n",
        "    x = tf.keras.layers.AveragePooling2D((2, 2))(x)\n",
        "\n",
        "    x = tf.keras.layers.Conv2D(32,kernel_size=3,activation='relu')(x)\n",
        "    x = tf.keras.layers.AveragePooling2D((2, 2))(x)\n",
        "\n",
        "    x = tf.keras.layers.Conv2D(64,kernel_size=3,activation='relu')(x)\n",
        "    x = tf.keras.layers.AveragePooling2D((2, 2))(x)\n",
        "\n",
        "    return x\n",
        "\n",
        "'''\n",
        "dense_layers adds a flatten and dense layer.\n",
        "This will follow the feature extraction layers\n",
        "'''\n",
        "def dense_layers(inputs):\n",
        "  x = tf.keras.layers.Flatten()(inputs)\n",
        "  x = tf.keras.layers.Dense(128, activation='relu')(x)\n",
        "  return x\n",
        "\n",
        "\n",
        "'''\n",
        "Classifier defines the classification output.\n",
        "This has a set of fully connected layers and a softmax layer.\n",
        "'''\n",
        "def classifier(inputs):\n",
        "\n",
        "  classification_output = tf.keras.layers.Dense(10, activation='softmax', name = 'classification')(inputs)\n",
        "  return classification_output\n",
        "\n",
        "\n",
        "'''\n",
        "This function defines the regression output for bounding box prediction. \n",
        "Note that we have four outputs corresponding to (xmin, ymin, xmax, ymax)\n",
        "'''\n",
        "def bounding_box_regression(inputs):\n",
        "    bounding_box_regression_output = tf.keras.layers.Dense(units = '4', name = 'bounding_box')(inputs)\n",
        "    return bounding_box_regression_output\n",
        "\n",
        "\n",
        "def final_model(inputs):\n",
        "    feature_cnn = feature_extractor(inputs)\n",
        "    dense_output = dense_layers(feature_cnn)\n",
        "\n",
        "    '''\n",
        "    The model branches here.  \n",
        "    The dense layer's output gets fed into two branches:\n",
        "    classification_output and bounding_box_output\n",
        "    '''\n",
        "    classification_output = classifier(dense_output)\n",
        "    bounding_box_output = bounding_box_regression(dense_output)\n",
        "\n",
        "    model = tf.keras.Model(inputs = inputs, outputs = [classification_output, bounding_box_output])\n",
        "\n",
        "    return model\n",
        "  \n",
        "\n",
        "def define_and_compile_model(inputs):\n",
        "  model = final_model(inputs)\n",
        "  \n",
        "  model.compile(optimizer='adam', \n",
        "              loss = {'classification' : 'categorical_crossentropy',\n",
        "                      'bounding_box' : 'mse'\n",
        "                     },\n",
        "              metrics = {'classification' : 'accuracy',\n",
        "                         'bounding_box' : 'mse'\n",
        "                        })\n",
        "  return model\n",
        "\n",
        "    \n",
        "with strategy.scope():\n",
        "  inputs = tf.keras.layers.Input(shape=(75, 75, 1,))\n",
        "  model = define_and_compile_model(inputs)\n",
        "\n",
        "# print model layers\n",
        "model.summary()"
      ],
      "execution_count": 9,
      "outputs": [
        {
          "output_type": "stream",
          "name": "stdout",
          "text": [
            "Model: \"model\"\n",
            "__________________________________________________________________________________________________\n",
            " Layer (type)                   Output Shape         Param #     Connected to                     \n",
            "==================================================================================================\n",
            " input_1 (InputLayer)           [(None, 75, 75, 1)]  0           []                               \n",
            "                                                                                                  \n",
            " conv2d (Conv2D)                (None, 73, 73, 16)   160         ['input_1[0][0]']                \n",
            "                                                                                                  \n",
            " average_pooling2d (AveragePool  (None, 36, 36, 16)  0           ['conv2d[0][0]']                 \n",
            " ing2D)                                                                                           \n",
            "                                                                                                  \n",
            " conv2d_1 (Conv2D)              (None, 34, 34, 32)   4640        ['average_pooling2d[0][0]']      \n",
            "                                                                                                  \n",
            " average_pooling2d_1 (AveragePo  (None, 17, 17, 32)  0           ['conv2d_1[0][0]']               \n",
            " oling2D)                                                                                         \n",
            "                                                                                                  \n",
            " conv2d_2 (Conv2D)              (None, 15, 15, 64)   18496       ['average_pooling2d_1[0][0]']    \n",
            "                                                                                                  \n",
            " average_pooling2d_2 (AveragePo  (None, 7, 7, 64)    0           ['conv2d_2[0][0]']               \n",
            " oling2D)                                                                                         \n",
            "                                                                                                  \n",
            " flatten (Flatten)              (None, 3136)         0           ['average_pooling2d_2[0][0]']    \n",
            "                                                                                                  \n",
            " dense (Dense)                  (None, 128)          401536      ['flatten[0][0]']                \n",
            "                                                                                                  \n",
            " classification (Dense)         (None, 10)           1290        ['dense[0][0]']                  \n",
            "                                                                                                  \n",
            " bounding_box (Dense)           (None, 4)            516         ['dense[0][0]']                  \n",
            "                                                                                                  \n",
            "==================================================================================================\n",
            "Total params: 426,638\n",
            "Trainable params: 426,638\n",
            "Non-trainable params: 0\n",
            "__________________________________________________________________________________________________\n"
          ]
        }
      ]
    },
    {
      "cell_type": "markdown",
      "metadata": {
        "id": "CuhDh8ao8VyB"
      },
      "source": [
        "### Train and validate the model"
      ]
    },
    {
      "cell_type": "code",
      "metadata": {
        "id": "TTwH_P-ZJ_xx",
        "colab": {
          "base_uri": "https://localhost:8080/"
        },
        "outputId": "748c4ea7-0ddd-4561-d31b-40ec5218a0b7"
      },
      "source": [
        "EPOCHS = 65 # 45\n",
        "steps_per_epoch = 60000//BATCH_SIZE  # 60,000 items in this dataset\n",
        "validation_steps = 1\n",
        "\n",
        "history = model.fit(training_dataset,\n",
        "                    steps_per_epoch=steps_per_epoch, validation_data=validation_dataset, validation_steps=validation_steps, epochs=EPOCHS)\n",
        "\n",
        "loss, classification_loss, bounding_box_loss, classification_accuracy, bounding_box_mse = model.evaluate(validation_dataset, steps=1)\n",
        "print(\"Validation accuracy: \", classification_accuracy)"
      ],
      "execution_count": 10,
      "outputs": [
        {
          "output_type": "stream",
          "name": "stdout",
          "text": [
            "Epoch 1/65\n",
            "937/937 [==============================] - 27s 17ms/step - loss: 0.9202 - classification_loss: 0.9059 - bounding_box_loss: 0.0142 - classification_accuracy: 0.6794 - bounding_box_mse: 0.0142 - val_loss: 0.2970 - val_classification_loss: 0.2890 - val_bounding_box_loss: 0.0080 - val_classification_accuracy: 0.9112 - val_bounding_box_mse: 0.0080\n",
            "Epoch 2/65\n",
            "937/937 [==============================] - 11s 11ms/step - loss: 0.2556 - classification_loss: 0.2494 - bounding_box_loss: 0.0062 - classification_accuracy: 0.9242 - bounding_box_mse: 0.0062 - val_loss: 0.1925 - val_classification_loss: 0.1878 - val_bounding_box_loss: 0.0047 - val_classification_accuracy: 0.9433 - val_bounding_box_mse: 0.0047\n",
            "Epoch 3/65\n",
            "937/937 [==============================] - 14s 15ms/step - loss: 0.1870 - classification_loss: 0.1835 - bounding_box_loss: 0.0035 - classification_accuracy: 0.9441 - bounding_box_mse: 0.0035 - val_loss: 0.1513 - val_classification_loss: 0.1485 - val_bounding_box_loss: 0.0028 - val_classification_accuracy: 0.9537 - val_bounding_box_mse: 0.0028\n",
            "Epoch 4/65\n",
            "937/937 [==============================] - 11s 11ms/step - loss: 0.1501 - classification_loss: 0.1477 - bounding_box_loss: 0.0024 - classification_accuracy: 0.9541 - bounding_box_mse: 0.0024 - val_loss: 0.1195 - val_classification_loss: 0.1175 - val_bounding_box_loss: 0.0020 - val_classification_accuracy: 0.9648 - val_bounding_box_mse: 0.0020\n",
            "Epoch 5/65\n",
            "937/937 [==============================] - 11s 12ms/step - loss: 0.1316 - classification_loss: 0.1297 - bounding_box_loss: 0.0019 - classification_accuracy: 0.9604 - bounding_box_mse: 0.0019 - val_loss: 0.1041 - val_classification_loss: 0.1026 - val_bounding_box_loss: 0.0015 - val_classification_accuracy: 0.9671 - val_bounding_box_mse: 0.0015\n",
            "Epoch 6/65\n",
            "937/937 [==============================] - 12s 12ms/step - loss: 0.1124 - classification_loss: 0.1110 - bounding_box_loss: 0.0015 - classification_accuracy: 0.9662 - bounding_box_mse: 0.0015 - val_loss: 0.0875 - val_classification_loss: 0.0863 - val_bounding_box_loss: 0.0012 - val_classification_accuracy: 0.9723 - val_bounding_box_mse: 0.0012\n",
            "Epoch 7/65\n",
            "937/937 [==============================] - 10s 11ms/step - loss: 0.1004 - classification_loss: 0.0991 - bounding_box_loss: 0.0013 - classification_accuracy: 0.9694 - bounding_box_mse: 0.0013 - val_loss: 0.1003 - val_classification_loss: 0.0990 - val_bounding_box_loss: 0.0014 - val_classification_accuracy: 0.9700 - val_bounding_box_mse: 0.0014\n",
            "Epoch 8/65\n",
            "937/937 [==============================] - 10s 11ms/step - loss: 0.0897 - classification_loss: 0.0885 - bounding_box_loss: 0.0012 - classification_accuracy: 0.9735 - bounding_box_mse: 0.0012 - val_loss: 0.0657 - val_classification_loss: 0.0644 - val_bounding_box_loss: 0.0013 - val_classification_accuracy: 0.9804 - val_bounding_box_mse: 0.0013\n",
            "Epoch 9/65\n",
            "937/937 [==============================] - 10s 11ms/step - loss: 0.0817 - classification_loss: 0.0806 - bounding_box_loss: 0.0011 - classification_accuracy: 0.9749 - bounding_box_mse: 0.0011 - val_loss: 0.0693 - val_classification_loss: 0.0683 - val_bounding_box_loss: 9.4124e-04 - val_classification_accuracy: 0.9777 - val_bounding_box_mse: 9.4124e-04\n",
            "Epoch 10/65\n",
            "937/937 [==============================] - 10s 11ms/step - loss: 0.0747 - classification_loss: 0.0737 - bounding_box_loss: 0.0010 - classification_accuracy: 0.9781 - bounding_box_mse: 0.0010 - val_loss: 0.0673 - val_classification_loss: 0.0664 - val_bounding_box_loss: 9.1664e-04 - val_classification_accuracy: 0.9786 - val_bounding_box_mse: 9.1664e-04\n",
            "Epoch 11/65\n",
            "937/937 [==============================] - 10s 11ms/step - loss: 0.0672 - classification_loss: 0.0662 - bounding_box_loss: 0.0010 - classification_accuracy: 0.9788 - bounding_box_mse: 0.0010 - val_loss: 0.0594 - val_classification_loss: 0.0582 - val_bounding_box_loss: 0.0012 - val_classification_accuracy: 0.9832 - val_bounding_box_mse: 0.0012\n",
            "Epoch 12/65\n",
            "937/937 [==============================] - 11s 12ms/step - loss: 0.0634 - classification_loss: 0.0624 - bounding_box_loss: 0.0010 - classification_accuracy: 0.9809 - bounding_box_mse: 0.0010 - val_loss: 0.0450 - val_classification_loss: 0.0441 - val_bounding_box_loss: 9.8040e-04 - val_classification_accuracy: 0.9864 - val_bounding_box_mse: 9.8040e-04\n",
            "Epoch 13/65\n",
            "937/937 [==============================] - 11s 12ms/step - loss: 0.0596 - classification_loss: 0.0586 - bounding_box_loss: 0.0010 - classification_accuracy: 0.9817 - bounding_box_mse: 0.0010 - val_loss: 0.0488 - val_classification_loss: 0.0479 - val_bounding_box_loss: 9.8193e-04 - val_classification_accuracy: 0.9847 - val_bounding_box_mse: 9.8193e-04\n",
            "Epoch 14/65\n",
            "937/937 [==============================] - 10s 11ms/step - loss: 0.0570 - classification_loss: 0.0560 - bounding_box_loss: 0.0010 - classification_accuracy: 0.9830 - bounding_box_mse: 0.0010 - val_loss: 0.0441 - val_classification_loss: 0.0431 - val_bounding_box_loss: 9.9932e-04 - val_classification_accuracy: 0.9862 - val_bounding_box_mse: 9.9932e-04\n",
            "Epoch 15/65\n",
            "937/937 [==============================] - 11s 12ms/step - loss: 0.0524 - classification_loss: 0.0514 - bounding_box_loss: 9.8651e-04 - classification_accuracy: 0.9846 - bounding_box_mse: 9.8651e-04 - val_loss: 0.0477 - val_classification_loss: 0.0468 - val_bounding_box_loss: 9.5489e-04 - val_classification_accuracy: 0.9845 - val_bounding_box_mse: 9.5489e-04\n",
            "Epoch 16/65\n",
            "937/937 [==============================] - 11s 12ms/step - loss: 0.0495 - classification_loss: 0.0485 - bounding_box_loss: 0.0010 - classification_accuracy: 0.9848 - bounding_box_mse: 0.0010 - val_loss: 0.0507 - val_classification_loss: 0.0496 - val_bounding_box_loss: 0.0011 - val_classification_accuracy: 0.9832 - val_bounding_box_mse: 0.0011\n",
            "Epoch 17/65\n",
            "937/937 [==============================] - 11s 11ms/step - loss: 0.0480 - classification_loss: 0.0470 - bounding_box_loss: 0.0010 - classification_accuracy: 0.9857 - bounding_box_mse: 0.0010 - val_loss: 0.0432 - val_classification_loss: 0.0423 - val_bounding_box_loss: 8.7593e-04 - val_classification_accuracy: 0.9863 - val_bounding_box_mse: 8.7593e-04\n",
            "Epoch 18/65\n",
            "937/937 [==============================] - 11s 11ms/step - loss: 0.0469 - classification_loss: 0.0459 - bounding_box_loss: 9.7552e-04 - classification_accuracy: 0.9861 - bounding_box_mse: 9.7552e-04 - val_loss: 0.0389 - val_classification_loss: 0.0379 - val_bounding_box_loss: 0.0010 - val_classification_accuracy: 0.9882 - val_bounding_box_mse: 0.0010\n",
            "Epoch 19/65\n",
            "937/937 [==============================] - 10s 11ms/step - loss: 0.0450 - classification_loss: 0.0440 - bounding_box_loss: 9.3481e-04 - classification_accuracy: 0.9861 - bounding_box_mse: 9.3481e-04 - val_loss: 0.0439 - val_classification_loss: 0.0431 - val_bounding_box_loss: 8.6615e-04 - val_classification_accuracy: 0.9875 - val_bounding_box_mse: 8.6615e-04\n",
            "Epoch 20/65\n",
            "937/937 [==============================] - 10s 11ms/step - loss: 0.0433 - classification_loss: 0.0423 - bounding_box_loss: 9.5063e-04 - classification_accuracy: 0.9870 - bounding_box_mse: 9.5063e-04 - val_loss: 0.0405 - val_classification_loss: 0.0396 - val_bounding_box_loss: 9.2165e-04 - val_classification_accuracy: 0.9872 - val_bounding_box_mse: 9.2165e-04\n",
            "Epoch 21/65\n",
            "937/937 [==============================] - 11s 12ms/step - loss: 0.0393 - classification_loss: 0.0384 - bounding_box_loss: 9.1134e-04 - classification_accuracy: 0.9882 - bounding_box_mse: 9.1134e-04 - val_loss: 0.0352 - val_classification_loss: 0.0343 - val_bounding_box_loss: 8.6023e-04 - val_classification_accuracy: 0.9890 - val_bounding_box_mse: 8.6023e-04\n",
            "Epoch 22/65\n",
            "937/937 [==============================] - 11s 11ms/step - loss: 0.0380 - classification_loss: 0.0371 - bounding_box_loss: 8.8746e-04 - classification_accuracy: 0.9881 - bounding_box_mse: 8.8746e-04 - val_loss: 0.0366 - val_classification_loss: 0.0357 - val_bounding_box_loss: 9.1407e-04 - val_classification_accuracy: 0.9889 - val_bounding_box_mse: 9.1407e-04\n",
            "Epoch 23/65\n",
            "937/937 [==============================] - 11s 11ms/step - loss: 0.0372 - classification_loss: 0.0363 - bounding_box_loss: 9.1677e-04 - classification_accuracy: 0.9889 - bounding_box_mse: 9.1677e-04 - val_loss: 0.0342 - val_classification_loss: 0.0332 - val_bounding_box_loss: 0.0010 - val_classification_accuracy: 0.9889 - val_bounding_box_mse: 0.0010\n",
            "Epoch 24/65\n",
            "937/937 [==============================] - 10s 11ms/step - loss: 0.0376 - classification_loss: 0.0367 - bounding_box_loss: 9.0397e-04 - classification_accuracy: 0.9887 - bounding_box_mse: 9.0397e-04 - val_loss: 0.0462 - val_classification_loss: 0.0453 - val_bounding_box_loss: 9.1341e-04 - val_classification_accuracy: 0.9849 - val_bounding_box_mse: 9.1341e-04\n",
            "Epoch 25/65\n",
            "937/937 [==============================] - 10s 11ms/step - loss: 0.0363 - classification_loss: 0.0354 - bounding_box_loss: 8.7971e-04 - classification_accuracy: 0.9891 - bounding_box_mse: 8.7971e-04 - val_loss: 0.0354 - val_classification_loss: 0.0345 - val_bounding_box_loss: 8.9532e-04 - val_classification_accuracy: 0.9899 - val_bounding_box_mse: 8.9532e-04\n",
            "Epoch 26/65\n",
            "937/937 [==============================] - 10s 11ms/step - loss: 0.0348 - classification_loss: 0.0339 - bounding_box_loss: 8.6830e-04 - classification_accuracy: 0.9898 - bounding_box_mse: 8.6830e-04 - val_loss: 0.0337 - val_classification_loss: 0.0329 - val_bounding_box_loss: 7.6630e-04 - val_classification_accuracy: 0.9903 - val_bounding_box_mse: 7.6630e-04\n",
            "Epoch 27/65\n",
            "937/937 [==============================] - 11s 12ms/step - loss: 0.0332 - classification_loss: 0.0323 - bounding_box_loss: 8.6701e-04 - classification_accuracy: 0.9903 - bounding_box_mse: 8.6701e-04 - val_loss: 0.0435 - val_classification_loss: 0.0426 - val_bounding_box_loss: 9.0443e-04 - val_classification_accuracy: 0.9862 - val_bounding_box_mse: 9.0443e-04\n",
            "Epoch 28/65\n",
            "937/937 [==============================] - 13s 14ms/step - loss: 0.0321 - classification_loss: 0.0312 - bounding_box_loss: 8.8245e-04 - classification_accuracy: 0.9906 - bounding_box_mse: 8.8245e-04 - val_loss: 0.0373 - val_classification_loss: 0.0365 - val_bounding_box_loss: 8.7918e-04 - val_classification_accuracy: 0.9887 - val_bounding_box_mse: 8.7918e-04\n",
            "Epoch 29/65\n",
            "937/937 [==============================] - 10s 11ms/step - loss: 0.0319 - classification_loss: 0.0311 - bounding_box_loss: 8.3757e-04 - classification_accuracy: 0.9906 - bounding_box_mse: 8.3757e-04 - val_loss: 0.0351 - val_classification_loss: 0.0343 - val_bounding_box_loss: 8.2929e-04 - val_classification_accuracy: 0.9883 - val_bounding_box_mse: 8.2929e-04\n",
            "Epoch 30/65\n",
            "937/937 [==============================] - 10s 11ms/step - loss: 0.0299 - classification_loss: 0.0291 - bounding_box_loss: 8.0308e-04 - classification_accuracy: 0.9909 - bounding_box_mse: 8.0308e-04 - val_loss: 0.0341 - val_classification_loss: 0.0334 - val_bounding_box_loss: 7.8298e-04 - val_classification_accuracy: 0.9903 - val_bounding_box_mse: 7.8298e-04\n",
            "Epoch 31/65\n",
            "937/937 [==============================] - 11s 11ms/step - loss: 0.0302 - classification_loss: 0.0294 - bounding_box_loss: 7.8650e-04 - classification_accuracy: 0.9908 - bounding_box_mse: 7.8650e-04 - val_loss: 0.0329 - val_classification_loss: 0.0322 - val_bounding_box_loss: 7.5560e-04 - val_classification_accuracy: 0.9887 - val_bounding_box_mse: 7.5560e-04\n",
            "Epoch 32/65\n",
            "937/937 [==============================] - 10s 11ms/step - loss: 0.0291 - classification_loss: 0.0284 - bounding_box_loss: 7.1772e-04 - classification_accuracy: 0.9910 - bounding_box_mse: 7.1772e-04 - val_loss: 0.0418 - val_classification_loss: 0.0411 - val_bounding_box_loss: 7.1633e-04 - val_classification_accuracy: 0.9875 - val_bounding_box_mse: 7.1633e-04\n",
            "Epoch 33/65\n",
            "937/937 [==============================] - 10s 11ms/step - loss: 0.0267 - classification_loss: 0.0260 - bounding_box_loss: 7.1058e-04 - classification_accuracy: 0.9921 - bounding_box_mse: 7.1058e-04 - val_loss: 0.0310 - val_classification_loss: 0.0302 - val_bounding_box_loss: 7.3901e-04 - val_classification_accuracy: 0.9898 - val_bounding_box_mse: 7.3901e-04\n",
            "Epoch 34/65\n",
            "937/937 [==============================] - 10s 11ms/step - loss: 0.0264 - classification_loss: 0.0257 - bounding_box_loss: 6.7408e-04 - classification_accuracy: 0.9918 - bounding_box_mse: 6.7408e-04 - val_loss: 0.0261 - val_classification_loss: 0.0255 - val_bounding_box_loss: 6.2680e-04 - val_classification_accuracy: 0.9924 - val_bounding_box_mse: 6.2680e-04\n",
            "Epoch 35/65\n",
            "937/937 [==============================] - 11s 12ms/step - loss: 0.0268 - classification_loss: 0.0262 - bounding_box_loss: 6.2822e-04 - classification_accuracy: 0.9920 - bounding_box_mse: 6.2822e-04 - val_loss: 0.0294 - val_classification_loss: 0.0289 - val_bounding_box_loss: 5.6223e-04 - val_classification_accuracy: 0.9898 - val_bounding_box_mse: 5.6223e-04\n",
            "Epoch 36/65\n",
            "937/937 [==============================] - 11s 12ms/step - loss: 0.0269 - classification_loss: 0.0263 - bounding_box_loss: 6.0288e-04 - classification_accuracy: 0.9918 - bounding_box_mse: 6.0288e-04 - val_loss: 0.0301 - val_classification_loss: 0.0295 - val_bounding_box_loss: 5.4282e-04 - val_classification_accuracy: 0.9896 - val_bounding_box_mse: 5.4282e-04\n",
            "Epoch 37/65\n",
            "937/937 [==============================] - 11s 12ms/step - loss: 0.0259 - classification_loss: 0.0253 - bounding_box_loss: 5.7368e-04 - classification_accuracy: 0.9923 - bounding_box_mse: 5.7368e-04 - val_loss: 0.0264 - val_classification_loss: 0.0258 - val_bounding_box_loss: 6.1078e-04 - val_classification_accuracy: 0.9907 - val_bounding_box_mse: 6.1078e-04\n",
            "Epoch 38/65\n",
            "937/937 [==============================] - 11s 12ms/step - loss: 0.0246 - classification_loss: 0.0240 - bounding_box_loss: 5.3939e-04 - classification_accuracy: 0.9922 - bounding_box_mse: 5.3939e-04 - val_loss: 0.0249 - val_classification_loss: 0.0245 - val_bounding_box_loss: 4.8177e-04 - val_classification_accuracy: 0.9918 - val_bounding_box_mse: 4.8177e-04\n",
            "Epoch 39/65\n",
            "937/937 [==============================] - 11s 12ms/step - loss: 0.0239 - classification_loss: 0.0233 - bounding_box_loss: 5.0977e-04 - classification_accuracy: 0.9928 - bounding_box_mse: 5.0977e-04 - val_loss: 0.0267 - val_classification_loss: 0.0262 - val_bounding_box_loss: 5.1292e-04 - val_classification_accuracy: 0.9912 - val_bounding_box_mse: 5.1292e-04\n",
            "Epoch 40/65\n",
            "937/937 [==============================] - 10s 11ms/step - loss: 0.0248 - classification_loss: 0.0243 - bounding_box_loss: 4.8509e-04 - classification_accuracy: 0.9922 - bounding_box_mse: 4.8509e-04 - val_loss: 0.0275 - val_classification_loss: 0.0271 - val_bounding_box_loss: 4.3092e-04 - val_classification_accuracy: 0.9912 - val_bounding_box_mse: 4.3092e-04\n",
            "Epoch 41/65\n",
            "937/937 [==============================] - 11s 12ms/step - loss: 0.0219 - classification_loss: 0.0214 - bounding_box_loss: 4.6204e-04 - classification_accuracy: 0.9932 - bounding_box_mse: 4.6204e-04 - val_loss: 0.0274 - val_classification_loss: 0.0269 - val_bounding_box_loss: 4.6341e-04 - val_classification_accuracy: 0.9914 - val_bounding_box_mse: 4.6341e-04\n",
            "Epoch 42/65\n",
            "937/937 [==============================] - 11s 12ms/step - loss: 0.0221 - classification_loss: 0.0217 - bounding_box_loss: 4.5621e-04 - classification_accuracy: 0.9932 - bounding_box_mse: 4.5621e-04 - val_loss: 0.0244 - val_classification_loss: 0.0239 - val_bounding_box_loss: 4.7530e-04 - val_classification_accuracy: 0.9931 - val_bounding_box_mse: 4.7530e-04\n",
            "Epoch 43/65\n",
            "937/937 [==============================] - 11s 12ms/step - loss: 0.0215 - classification_loss: 0.0211 - bounding_box_loss: 4.3752e-04 - classification_accuracy: 0.9934 - bounding_box_mse: 4.3752e-04 - val_loss: 0.0271 - val_classification_loss: 0.0267 - val_bounding_box_loss: 4.1944e-04 - val_classification_accuracy: 0.9914 - val_bounding_box_mse: 4.1944e-04\n",
            "Epoch 44/65\n",
            "937/937 [==============================] - 10s 11ms/step - loss: 0.0217 - classification_loss: 0.0212 - bounding_box_loss: 4.1364e-04 - classification_accuracy: 0.9934 - bounding_box_mse: 4.1364e-04 - val_loss: 0.0271 - val_classification_loss: 0.0267 - val_bounding_box_loss: 4.3057e-04 - val_classification_accuracy: 0.9908 - val_bounding_box_mse: 4.3057e-04\n",
            "Epoch 45/65\n",
            "937/937 [==============================] - 11s 12ms/step - loss: 0.0214 - classification_loss: 0.0209 - bounding_box_loss: 4.2998e-04 - classification_accuracy: 0.9933 - bounding_box_mse: 4.2998e-04 - val_loss: 0.0260 - val_classification_loss: 0.0255 - val_bounding_box_loss: 4.9439e-04 - val_classification_accuracy: 0.9915 - val_bounding_box_mse: 4.9439e-04\n",
            "Epoch 46/65\n",
            "937/937 [==============================] - 11s 11ms/step - loss: 0.0210 - classification_loss: 0.0206 - bounding_box_loss: 4.2686e-04 - classification_accuracy: 0.9938 - bounding_box_mse: 4.2686e-04 - val_loss: 0.0260 - val_classification_loss: 0.0256 - val_bounding_box_loss: 4.4242e-04 - val_classification_accuracy: 0.9917 - val_bounding_box_mse: 4.4242e-04\n",
            "Epoch 47/65\n",
            "937/937 [==============================] - 11s 11ms/step - loss: 0.0196 - classification_loss: 0.0191 - bounding_box_loss: 4.2488e-04 - classification_accuracy: 0.9939 - bounding_box_mse: 4.2488e-04 - val_loss: 0.0283 - val_classification_loss: 0.0279 - val_bounding_box_loss: 4.2073e-04 - val_classification_accuracy: 0.9906 - val_bounding_box_mse: 4.2073e-04\n",
            "Epoch 48/65\n",
            "937/937 [==============================] - 11s 12ms/step - loss: 0.0219 - classification_loss: 0.0215 - bounding_box_loss: 3.9632e-04 - classification_accuracy: 0.9934 - bounding_box_mse: 3.9632e-04 - val_loss: 0.0272 - val_classification_loss: 0.0267 - val_bounding_box_loss: 4.7924e-04 - val_classification_accuracy: 0.9913 - val_bounding_box_mse: 4.7924e-04\n",
            "Epoch 49/65\n",
            "937/937 [==============================] - 11s 11ms/step - loss: 0.0193 - classification_loss: 0.0189 - bounding_box_loss: 3.8018e-04 - classification_accuracy: 0.9946 - bounding_box_mse: 3.8018e-04 - val_loss: 0.0233 - val_classification_loss: 0.0229 - val_bounding_box_loss: 3.7728e-04 - val_classification_accuracy: 0.9927 - val_bounding_box_mse: 3.7728e-04\n",
            "Epoch 50/65\n",
            "937/937 [==============================] - 10s 11ms/step - loss: 0.0197 - classification_loss: 0.0193 - bounding_box_loss: 4.0284e-04 - classification_accuracy: 0.9941 - bounding_box_mse: 4.0284e-04 - val_loss: 0.0244 - val_classification_loss: 0.0239 - val_bounding_box_loss: 5.1710e-04 - val_classification_accuracy: 0.9923 - val_bounding_box_mse: 5.1710e-04\n",
            "Epoch 51/65\n",
            "937/937 [==============================] - 10s 11ms/step - loss: 0.0193 - classification_loss: 0.0189 - bounding_box_loss: 3.8832e-04 - classification_accuracy: 0.9942 - bounding_box_mse: 3.8832e-04 - val_loss: 0.0221 - val_classification_loss: 0.0217 - val_bounding_box_loss: 3.4302e-04 - val_classification_accuracy: 0.9934 - val_bounding_box_mse: 3.4302e-04\n",
            "Epoch 52/65\n",
            "937/937 [==============================] - 13s 14ms/step - loss: 0.0192 - classification_loss: 0.0188 - bounding_box_loss: 3.9309e-04 - classification_accuracy: 0.9941 - bounding_box_mse: 3.9309e-04 - val_loss: 0.0271 - val_classification_loss: 0.0267 - val_bounding_box_loss: 3.9050e-04 - val_classification_accuracy: 0.9914 - val_bounding_box_mse: 3.9050e-04\n",
            "Epoch 53/65\n",
            "937/937 [==============================] - 11s 12ms/step - loss: 0.0181 - classification_loss: 0.0177 - bounding_box_loss: 3.9440e-04 - classification_accuracy: 0.9941 - bounding_box_mse: 3.9440e-04 - val_loss: 0.0224 - val_classification_loss: 0.0220 - val_bounding_box_loss: 3.8872e-04 - val_classification_accuracy: 0.9933 - val_bounding_box_mse: 3.8872e-04\n",
            "Epoch 54/65\n",
            "937/937 [==============================] - 11s 12ms/step - loss: 0.0177 - classification_loss: 0.0173 - bounding_box_loss: 3.7951e-04 - classification_accuracy: 0.9946 - bounding_box_mse: 3.7951e-04 - val_loss: 0.0266 - val_classification_loss: 0.0263 - val_bounding_box_loss: 3.8425e-04 - val_classification_accuracy: 0.9915 - val_bounding_box_mse: 3.8425e-04\n",
            "Epoch 55/65\n",
            "937/937 [==============================] - 11s 12ms/step - loss: 0.0179 - classification_loss: 0.0175 - bounding_box_loss: 3.8373e-04 - classification_accuracy: 0.9945 - bounding_box_mse: 3.8373e-04 - val_loss: 0.0276 - val_classification_loss: 0.0272 - val_bounding_box_loss: 3.9715e-04 - val_classification_accuracy: 0.9919 - val_bounding_box_mse: 3.9715e-04\n",
            "Epoch 56/65\n",
            "937/937 [==============================] - 11s 12ms/step - loss: 0.0173 - classification_loss: 0.0170 - bounding_box_loss: 3.7328e-04 - classification_accuracy: 0.9945 - bounding_box_mse: 3.7328e-04 - val_loss: 0.0271 - val_classification_loss: 0.0267 - val_bounding_box_loss: 3.4245e-04 - val_classification_accuracy: 0.9927 - val_bounding_box_mse: 3.4245e-04\n",
            "Epoch 57/65\n",
            "937/937 [==============================] - 11s 12ms/step - loss: 0.0178 - classification_loss: 0.0174 - bounding_box_loss: 3.8700e-04 - classification_accuracy: 0.9942 - bounding_box_mse: 3.8700e-04 - val_loss: 0.0216 - val_classification_loss: 0.0212 - val_bounding_box_loss: 3.4709e-04 - val_classification_accuracy: 0.9931 - val_bounding_box_mse: 3.4709e-04\n",
            "Epoch 58/65\n",
            "937/937 [==============================] - 11s 12ms/step - loss: 0.0170 - classification_loss: 0.0166 - bounding_box_loss: 3.6849e-04 - classification_accuracy: 0.9944 - bounding_box_mse: 3.6849e-04 - val_loss: 0.0297 - val_classification_loss: 0.0293 - val_bounding_box_loss: 3.6491e-04 - val_classification_accuracy: 0.9909 - val_bounding_box_mse: 3.6491e-04\n",
            "Epoch 59/65\n",
            "937/937 [==============================] - 11s 12ms/step - loss: 0.0167 - classification_loss: 0.0163 - bounding_box_loss: 3.7535e-04 - classification_accuracy: 0.9952 - bounding_box_mse: 3.7535e-04 - val_loss: 0.0229 - val_classification_loss: 0.0226 - val_bounding_box_loss: 3.5353e-04 - val_classification_accuracy: 0.9923 - val_bounding_box_mse: 3.5353e-04\n",
            "Epoch 60/65\n",
            "937/937 [==============================] - 10s 11ms/step - loss: 0.0167 - classification_loss: 0.0163 - bounding_box_loss: 3.7048e-04 - classification_accuracy: 0.9947 - bounding_box_mse: 3.7048e-04 - val_loss: 0.0211 - val_classification_loss: 0.0208 - val_bounding_box_loss: 3.6424e-04 - val_classification_accuracy: 0.9937 - val_bounding_box_mse: 3.6424e-04\n",
            "Epoch 61/65\n",
            "937/937 [==============================] - 10s 11ms/step - loss: 0.0164 - classification_loss: 0.0160 - bounding_box_loss: 3.8986e-04 - classification_accuracy: 0.9951 - bounding_box_mse: 3.8986e-04 - val_loss: 0.0266 - val_classification_loss: 0.0263 - val_bounding_box_loss: 3.5625e-04 - val_classification_accuracy: 0.9922 - val_bounding_box_mse: 3.5625e-04\n",
            "Epoch 62/65\n",
            "937/937 [==============================] - 10s 11ms/step - loss: 0.0164 - classification_loss: 0.0161 - bounding_box_loss: 3.7101e-04 - classification_accuracy: 0.9947 - bounding_box_mse: 3.7101e-04 - val_loss: 0.0252 - val_classification_loss: 0.0248 - val_bounding_box_loss: 3.8843e-04 - val_classification_accuracy: 0.9927 - val_bounding_box_mse: 3.8843e-04\n",
            "Epoch 63/65\n",
            "937/937 [==============================] - 11s 12ms/step - loss: 0.0158 - classification_loss: 0.0154 - bounding_box_loss: 3.7326e-04 - classification_accuracy: 0.9953 - bounding_box_mse: 3.7326e-04 - val_loss: 0.0283 - val_classification_loss: 0.0279 - val_bounding_box_loss: 4.0865e-04 - val_classification_accuracy: 0.9920 - val_bounding_box_mse: 4.0865e-04\n",
            "Epoch 64/65\n",
            "937/937 [==============================] - 11s 12ms/step - loss: 0.0160 - classification_loss: 0.0156 - bounding_box_loss: 3.8999e-04 - classification_accuracy: 0.9951 - bounding_box_mse: 3.8999e-04 - val_loss: 0.0237 - val_classification_loss: 0.0233 - val_bounding_box_loss: 3.7579e-04 - val_classification_accuracy: 0.9926 - val_bounding_box_mse: 3.7579e-04\n",
            "Epoch 65/65\n",
            "937/937 [==============================] - 10s 11ms/step - loss: 0.0148 - classification_loss: 0.0144 - bounding_box_loss: 3.7348e-04 - classification_accuracy: 0.9954 - bounding_box_mse: 3.7348e-04 - val_loss: 0.0275 - val_classification_loss: 0.0271 - val_bounding_box_loss: 3.6769e-04 - val_classification_accuracy: 0.9920 - val_bounding_box_mse: 3.6769e-04\n",
            "1/1 [==============================] - 1s 1s/step - loss: 0.0291 - classification_loss: 0.0287 - bounding_box_loss: 3.5606e-04 - classification_accuracy: 0.9912 - bounding_box_mse: 3.5606e-04\n",
            "Validation accuracy:  0.9911999702453613\n"
          ]
        }
      ]
    },
    {
      "cell_type": "code",
      "metadata": {
        "id": "Cz-b8TxU6EDj",
        "colab": {
          "base_uri": "https://localhost:8080/",
          "height": 284
        },
        "outputId": "4b74f2ff-749c-4776-b6a3-79e05a4b19d0"
      },
      "source": [
        "plot_metrics(\"classification_loss\", \"Classification Loss\")\n",
        "plot_metrics(\"bounding_box_loss\", \"Bounding Box Loss\")"
      ],
      "execution_count": 14,
      "outputs": [
        {
          "output_type": "display_data",
          "data": {
            "text/plain": [
              "<Figure size 432x288 with 1 Axes>"
            ],
            "image/png": "[encoded data removed]"
          },
          "metadata": {}
        }
      ]
    },
    {
      "cell_type": "markdown",
      "metadata": {
        "id": "3FBn4V5-Krkt"
      },
      "source": [
        "## Intersection over union\n",
        "\n",
        "Calculate the I-O-U metric to evaluate the model's performance."
      ]
    },
    {
      "cell_type": "code",
      "metadata": {
        "id": "YFqJxt3_VrCm"
      },
      "source": [
        "def intersection_over_union(pred_box, true_box):\n",
        "    xmin_pred, ymin_pred, xmax_pred, ymax_pred =  np.split(pred_box, 4, axis = 1)\n",
        "    xmin_true, ymin_true, xmax_true, ymax_true = np.split(true_box, 4, axis = 1)\n",
        "\n",
        "    smoothing_factor = 1e-10\n",
        "\n",
        "    xmin_overlap = np.maximum(xmin_pred, xmin_true)\n",
        "    xmax_overlap = np.minimum(xmax_pred, xmax_true)\n",
        "    ymin_overlap = np.maximum(ymin_pred, ymin_true)\n",
        "    ymax_overlap = np.minimum(ymax_pred, ymax_true)\n",
        "\n",
        "    pred_box_area = (xmax_pred - xmin_pred) * (ymax_pred - ymin_pred)\n",
        "    true_box_area = (xmax_true - xmin_true) * (ymax_true - ymin_true)\n",
        "\n",
        "    overlap_area = np.maximum((xmax_overlap - xmin_overlap), 0)  * np.maximum((ymax_overlap - ymin_overlap), 0)\n",
        "    union_area = (pred_box_area + true_box_area) - overlap_area\n",
        "    \n",
        "    iou = (overlap_area + smoothing_factor) / (union_area + smoothing_factor)\n",
        "\n",
        "    return iou"
      ],
      "execution_count": 15,
      "outputs": []
    },
    {
      "cell_type": "markdown",
      "metadata": {
        "id": "9jFVovcUUVs1"
      },
      "source": [
        "### Visualize predictions\n",
        "The following code will make predictions and visualize both the classification and the predicted bounding boxes.\n",
        "- The true bounding box labels will be in green, and the model's predicted bounding boxes are in red.\n",
        "- The predicted number is shown below the image."
      ]
    },
    {
      "cell_type": "code",
      "metadata": {
        "id": "w12OId8Mz7dF",
        "colab": {
          "base_uri": "https://localhost:8080/",
          "height": 319
        },
        "outputId": "93fa2e11-9933-4d83-b885-280c7a9327f1"
      },
      "source": [
        "# recognize validation digits\n",
        "predictions = model.predict(validation_digits, batch_size=64)\n",
        "predicted_labels = np.argmax(predictions[0], axis=1)\n",
        "\n",
        "predicted_bboxes = predictions[1]\n",
        "\n",
        "iou = intersection_over_union(predicted_bboxes, validation_bboxes)\n",
        "\n",
        "iou_threshold = 0.6\n",
        "\n",
        "print(\"Number of predictions where iou > threshold(%s): %s\" % (iou_threshold, (iou >= iou_threshold).sum()))\n",
        "print(\"Number of predictions where iou < threshold(%s): %s\" % (iou_threshold, (iou < iou_threshold).sum()))\n",
        "\n",
        "\n",
        "display_digits_with_boxes(validation_digits, predicted_labels, validation_labels, predicted_bboxes, validation_bboxes, iou, \"True and Predicted values\")"
      ],
      "execution_count": 16,
      "outputs": [
        {
          "output_type": "stream",
          "name": "stdout",
          "text": [
            "157/157 [==============================] - 1s 6ms/step\n",
            "Number of predictions where iou > threshold(0.6): 9957\n",
            "Number of predictions where iou < threshold(0.6): 43\n"
          ]
        },
        {
          "output_type": "display_data",
          "data": {
            "text/plain": [
              "<Figure size 1440x288 with 11 Axes>"
            ],
            "image/png": "[encoded data removed]"
          },
          "metadata": {}
        }
      ]
    },
    {
      "cell_type": "code",
      "source": [],
      "metadata": {
        "id": "R59VEMPlrX3o"
      },
      "execution_count": null,
      "outputs": []
    }
  ]
}